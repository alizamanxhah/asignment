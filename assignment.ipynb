{
 "cells": [
  {
   "cell_type": "code",
   "execution_count": null,
   "id": "9752dccd-a9fa-4dee-b855-e4ec0c3cec4c",
   "metadata": {},
   "outputs": [],
   "source": [
    "nam = input('Who are you? ')\n",
    "print('Welcome', nam"
   ]
  },
  {
   "cell_type": "code",
   "execution_count": null,
   "id": "810a9e00-d515-461b-8aab-ca1e4504f2f3",
   "metadata": {},
   "outputs": [],
   "source": [
    "inp = input('Europe floor?')\n",
    "usf = int(inp) + 1\n",
    "print('US floor', usf)"
   ]
  },
  {
   "cell_type": "code",
   "execution_count": null,
   "id": "7faa55f4-3879-44ae-a6c5-708810748362",
   "metadata": {},
   "outputs": [],
   "source": [
    "Hours = float(input(\"Enter hours: \"))\n",
    "Rate = float(input(\"Enter rate: \"))\n",
    "\n",
    "# Calculate gross pay\n",
    "Pay = Hours * Rate\n",
    "print(\"Gross pay:\", Pay)"
   ]
  },
  {
   "cell_type": "code",
   "execution_count": null,
   "id": "dcc9679f-c1f9-4b8d-a907-3c49de5823c3",
   "metadata": {},
   "outputs": [],
   "source": [
    "hours = 35.0 \n",
    "rate = 12.50 \n",
    "pay = hours * rate \n",
    "print(pay)"
   ]
  },
  {
   "cell_type": "code",
   "execution_count": null,
   "id": "33946e41-634a-4fb9-8bb1-adbd3303ad4f",
   "metadata": {},
   "outputs": [],
   "source": [
    "x = 2\n",
    "x = x + 2\n",
    "print(x)"
   ]
  },
  {
   "cell_type": "code",
   "execution_count": null,
   "id": "152bbb55-830f-4186-9092-77f27431898a",
   "metadata": {},
   "outputs": [],
   "source": [
    "sval = '123'\n",
    "ival = int(sval)\n",
    "print(ival + 10)"
   ]
  }
 ],
 "metadata": {
  "kernelspec": {
   "display_name": "Python 3 (ipykernel)",
   "language": "python",
   "name": "python3"
  },
  "language_info": {
   "codemirror_mode": {
    "name": "ipython",
    "version": 3
   },
   "file_extension": ".py",
   "mimetype": "text/x-python",
   "name": "python",
   "nbconvert_exporter": "python",
   "pygments_lexer": "ipython3",
   "version": "3.10.12"
  }
 },
 "nbformat": 4,
 "nbformat_minor": 5
}
